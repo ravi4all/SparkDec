{
 "cells": [
  {
   "cell_type": "code",
   "execution_count": 3,
   "id": "8bc7a20e-35b5-45cb-a71f-da3d59314104",
   "metadata": {},
   "outputs": [],
   "source": [
    "import pyspark\n",
    "import os, sys"
   ]
  },
  {
   "cell_type": "code",
   "execution_count": 4,
   "id": "ca3c77a0-a7c3-41f4-895e-24ddb37c3a3a",
   "metadata": {},
   "outputs": [],
   "source": [
    "os.environ['PYSPARK_PYTHON'] = sys.executable\n",
    "os.environ['PYSPARK_DRIVER_PYTHON'] = sys.executable"
   ]
  },
  {
   "cell_type": "code",
   "execution_count": 5,
   "id": "daf879f3-31fd-483b-ba4d-15bc16db4539",
   "metadata": {},
   "outputs": [],
   "source": [
    "from pyspark.sql import SparkSession"
   ]
  },
  {
   "cell_type": "code",
   "execution_count": 6,
   "id": "392d2b83-d6a6-40e5-9e6e-aa2043a299a0",
   "metadata": {},
   "outputs": [],
   "source": [
    "spark = SparkSession.builder.master(\"local[1]\").appName(\"app_1\").getOrCreate()"
   ]
  },
  {
   "cell_type": "code",
   "execution_count": 7,
   "id": "5c871c2f-3088-43e6-8a94-718a4898340d",
   "metadata": {},
   "outputs": [],
   "source": [
    "dataset = [(\"John\", 45000),(\"Max\", 50000),(\"Shawn\", 40000),(\"Nick\", 25000),(\"Neo\", 65000)]"
   ]
  },
  {
   "cell_type": "code",
   "execution_count": 8,
   "id": "35bec4d2-d9d2-40a1-846b-72c30362a862",
   "metadata": {},
   "outputs": [],
   "source": [
    "rdd = spark.sparkContext.parallelize(dataset)\n",
    "df = rdd.toDF()"
   ]
  },
  {
   "cell_type": "code",
   "execution_count": 10,
   "id": "1622fdfd-afaa-458a-8c19-269ad797c87d",
   "metadata": {},
   "outputs": [
    {
     "name": "stdout",
     "output_type": "stream",
     "text": [
      "+-----+-----+\n",
      "|   _1|   _2|\n",
      "+-----+-----+\n",
      "| John|45000|\n",
      "|  Max|50000|\n",
      "|Shawn|40000|\n",
      "| Nick|25000|\n",
      "|  Neo|65000|\n",
      "+-----+-----+\n",
      "\n"
     ]
    }
   ],
   "source": [
    "df.show()"
   ]
  },
  {
   "cell_type": "code",
   "execution_count": 11,
   "id": "7c39246f-15ed-452e-8afc-bd0a815cb18a",
   "metadata": {},
   "outputs": [],
   "source": [
    "colNames = [\"Name\", \"Salary\"]\n",
    "df = rdd.toDF(colNames)"
   ]
  },
  {
   "cell_type": "code",
   "execution_count": 12,
   "id": "7fc3c1b0-9453-482c-88ae-eb270870296c",
   "metadata": {},
   "outputs": [
    {
     "name": "stdout",
     "output_type": "stream",
     "text": [
      "+-----+------+\n",
      "| Name|Salary|\n",
      "+-----+------+\n",
      "| John| 45000|\n",
      "|  Max| 50000|\n",
      "|Shawn| 40000|\n",
      "| Nick| 25000|\n",
      "|  Neo| 65000|\n",
      "+-----+------+\n",
      "\n"
     ]
    }
   ],
   "source": [
    "df.show()"
   ]
  },
  {
   "cell_type": "code",
   "execution_count": 13,
   "id": "a8a32a1c-fc68-49f8-b9a7-1f11ead9c0f2",
   "metadata": {},
   "outputs": [
    {
     "name": "stdout",
     "output_type": "stream",
     "text": [
      "root\n",
      " |-- Name: string (nullable = true)\n",
      " |-- Salary: long (nullable = true)\n",
      "\n"
     ]
    }
   ],
   "source": [
    "df.printSchema()"
   ]
  },
  {
   "cell_type": "code",
   "execution_count": 14,
   "id": "c90eda4f-552f-49ab-9fb6-50f22f332473",
   "metadata": {},
   "outputs": [],
   "source": [
    "summer_df = spark.read.csv(\"summer.csv\", header=True)"
   ]
  },
  {
   "cell_type": "code",
   "execution_count": 15,
   "id": "05d48899-fe58-4b61-97f6-86090d7f2fd7",
   "metadata": {},
   "outputs": [
    {
     "data": {
      "text/plain": [
       "31165"
      ]
     },
     "execution_count": 15,
     "metadata": {},
     "output_type": "execute_result"
    }
   ],
   "source": [
    "# get number of rows in data frame\n",
    "summer_df.count()"
   ]
  },
  {
   "cell_type": "code",
   "execution_count": 17,
   "id": "99e96b70-b4e5-4be8-bd26-dbaba9205cd2",
   "metadata": {},
   "outputs": [
    {
     "data": {
      "text/plain": [
       "9"
      ]
     },
     "execution_count": 17,
     "metadata": {},
     "output_type": "execute_result"
    }
   ],
   "source": [
    "len(summer_df.columns)"
   ]
  },
  {
   "cell_type": "code",
   "execution_count": 19,
   "id": "9f848ab3-f46a-457d-ac2e-d1a4c35f8c93",
   "metadata": {},
   "outputs": [
    {
     "name": "stdout",
     "output_type": "stream",
     "text": [
      "+----+------+--------+----------+-----------------+-------+------+--------------------+------+\n",
      "|Year|  City|   Sport|Discipline|          Athlete|Country|Gender|               Event| Medal|\n",
      "+----+------+--------+----------+-----------------+-------+------+--------------------+------+\n",
      "|1896|Athens|Aquatics|  Swimming|     HAJOS Alfred|    HUN|   Men|      100M Freestyle|  Gold|\n",
      "|1896|Athens|Aquatics|  Swimming|  HERSCHMANN Otto|    AUT|   Men|      100M Freestyle|Silver|\n",
      "|1896|Athens|Aquatics|  Swimming| DRIVAS Dimitrios|    GRE|   Men|100M Freestyle Fo...|Bronze|\n",
      "|1896|Athens|Aquatics|  Swimming|MALOKINIS Ioannis|    GRE|   Men|100M Freestyle Fo...|  Gold|\n",
      "|1896|Athens|Aquatics|  Swimming|CHASAPIS Spiridon|    GRE|   Men|100M Freestyle Fo...|Silver|\n",
      "+----+------+--------+----------+-----------------+-------+------+--------------------+------+\n",
      "only showing top 5 rows\n",
      "\n"
     ]
    }
   ],
   "source": [
    "summer_df.show(5)"
   ]
  },
  {
   "cell_type": "code",
   "execution_count": 21,
   "id": "ba803e47-78a7-48da-aadf-d83baeebbea8",
   "metadata": {},
   "outputs": [
    {
     "name": "stdout",
     "output_type": "stream",
     "text": [
      "+----+-----------------+-------+\n",
      "|Year|          Athlete|Country|\n",
      "+----+-----------------+-------+\n",
      "|1896|     HAJOS Alfred|    HUN|\n",
      "|1896|  HERSCHMANN Otto|    AUT|\n",
      "|1896| DRIVAS Dimitrios|    GRE|\n",
      "|1896|MALOKINIS Ioannis|    GRE|\n",
      "|1896|CHASAPIS Spiridon|    GRE|\n",
      "+----+-----------------+-------+\n",
      "only showing top 5 rows\n",
      "\n"
     ]
    }
   ],
   "source": [
    "summer_df.select(\"Year\", \"Athlete\", \"Country\").show(5)"
   ]
  },
  {
   "cell_type": "code",
   "execution_count": null,
   "id": "f6d39f5c-6adc-4499-8775-0bfc9e52229c",
   "metadata": {},
   "outputs": [],
   "source": []
  }
 ],
 "metadata": {
  "kernelspec": {
   "display_name": "Python 3 (ipykernel)",
   "language": "python",
   "name": "python3"
  },
  "language_info": {
   "codemirror_mode": {
    "name": "ipython",
    "version": 3
   },
   "file_extension": ".py",
   "mimetype": "text/x-python",
   "name": "python",
   "nbconvert_exporter": "python",
   "pygments_lexer": "ipython3",
   "version": "3.10.4"
  }
 },
 "nbformat": 4,
 "nbformat_minor": 5
}
